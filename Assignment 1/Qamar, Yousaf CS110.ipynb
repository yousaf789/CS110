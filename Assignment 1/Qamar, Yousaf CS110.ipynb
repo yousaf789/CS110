{
 "cells": [
  {
   "cell_type": "markdown",
   "metadata": {},
   "source": [
    "<div class=\"alert alert-success\">\n",
    "<strong>Assignment 1</strong> - Algorithm Design and Sorting\n",
    "</div>"
   ]
  },
  {
   "cell_type": "markdown",
   "metadata": {},
   "source": [
    "> Instead of a mini-project, which you will typically encounter in the following CS110 assignments, you will be solving independent problems in this first assignment. Use this opportunity to start your work early, finishing at least part of a question every week. This means you will have plenty of time to deepen the LO applications and showcase your understanding of the concepts discussed in the course. \n",
    "\n",
    "> Here are a few tips before you get started:\n",
    "> - Watch [this video](https://bit.ly/3HKtdbw) recorded by Joram Erbarth (M23) with advice on how to prepare for CS110 assignments. Most of the suggestions will also apply to other CS courses, so make sure to bookmark this video for future reference. \n",
    "> - Make sure you fill in any place that says `###YOUR DOCSTRING HERE`, `###YOUR CODE HERE` or `\"YOUR ANSWER HERE\"`.\n",
    "> - Feel free to add more cells (Markdown and coding) to the ones always provided in each question to expand your answers, as needed. \n",
    "> - Use the function names provided in the template notebook (please refrain from changing them).\n",
    "> - If you have any questions, do not hesitate to reach out to the TAs in the Slack channel \"#cs110-algo\", or come to the instructors' OHs.\n",
    "--------------\n",
    "\n",
    "\n",
    "\n",
    "🏁 **Setting up:**\n",
    "\n",
    "Start by stating your name and identifying your collaborators. Please comment on the nature of the collaboration (for example, if you briefly discussed the strategy to solving problem 1, say so, and explicitly point out what exactly did you discuss). "
   ]
  },
  {
   "cell_type": "markdown",
   "metadata": {
    "ExecuteTime": {
     "end_time": "2022-01-04T18:38:44.088887Z",
     "start_time": "2022-01-04T18:38:44.084350Z"
    },
    "deletable": false,
    "editable": false,
    "run_control": {
     "frozen": true
    }
   },
   "source": [
    "<div class=\"alert alert-warning\">\n",
    "<strong> Name:</strong> YOUR ANSWER HERE \n",
    "    <hr>\n",
    "<strong>Collaborators: </strong> YOUR ANSWER HERE \n",
    "    <hr>\n",
    "<strong>Details: </strong> YOUR ANSWER HERE\n",
    "</div>"
   ]
  },
  {
   "cell_type": "markdown",
   "metadata": {
    "deletable": false,
    "editable": false,
    "run_control": {
     "frozen": true
    }
   },
   "source": [
    "# Problem 1\n",
    "## Binary search"
   ]
  },
  {
   "cell_type": "markdown",
   "metadata": {
    "deletable": false,
    "editable": false,
    "run_control": {
     "frozen": true
    }
   },
   "source": [
    "We have discussed binary search in class---it's a searching algorithm that allows us to find a specific number given a sorted array quickly. We will assume that our inputs will never contain duplicates for this question. \n",
    "\n",
    "**a.** Explain in plain English the algorithmic strategy behind a binary search. Avoid using technical jargon (such as \"indices\" and while/for loops), and focus on explaining in as simple terms as possible how the algorithm works and how it is guaranteed, upon termination, to return the correct answer."
   ]
  },
  {
   "cell_type": "markdown",
   "metadata": {},
   "source": [
    "   Binary search is a searching algorithm that utilizes the divide and conquers approach.\n",
    "\n",
    "   Firstly, the algorithm will take a target number, which we are trying to find in the list, a list of numbers, and divide them into two equal halves, except in the case where the list consists of an odd number of numbers. After this, whether the middle number is the same as the target number is checked. If that is the case, then the location or position of the middle number is provided. Otherwise, we check whether the target number is higher or lower than the middle number. If it is lower than the middle number, the right side of the list is discarded, values equal to the middle number or greater than it. This discarding is viable as by comparing the target number with the middle number, we know for a fact that it will not be greater or equal to the middle number, so we discard it. Now we are only considering the left side of the list. The same process of choosing a new middle number is done, and again comparisons are made until we either find the target number in our list or when a list only has 1 or less than 1 number left in it, indicating the list has been checked. If the target number is higher than the middle number, we go in the other direction, and the same steps are repeated. We discard values on the left, values equal to or less than the middle number, and only look on the right-side values. We repeat the process of finding a new middle number and making the comparisons until we find the number or the list has 1 or fewer numbers left due to discarding.\n"
   ]
  },
  {
   "cell_type": "markdown",
   "metadata": {
    "deletable": false,
    "editable": false,
    "run_control": {
     "frozen": true
    }
   },
   "source": [
    "**b.** Provide a recursive and iterative coding implementation of binary search to this problem. We have provided some test cases for you to get started on checking if your code is correct. Your code should include some essential comments, well-chosen variable names, and you should provide at least three test cases to provide sufficient evidence that your code works as intended. "
   ]
  },
  {
   "cell_type": "code",
   "execution_count": 1,
   "metadata": {
    "ExecuteTime": {
     "end_time": "2022-01-04T18:38:44.094655Z",
     "start_time": "2022-01-04T18:38:44.091651Z"
    }
   },
   "outputs": [],
   "source": [
    "def recursive_binary_search(arr, target):\n",
    "    '''\n",
    "    This function acts as a dummy function which calls to an inner function to do calculations.\n",
    "    Parameters\n",
    "    ----------\n",
    "    arr : list\n",
    "        The array from which we are looking through.\n",
    "    target : integer\n",
    "        The integer we are looking for within the list.\n",
    "    Returns\n",
    "    -------\n",
    "    function \n",
    "        Calls the inside function to do the calculation for recursive binary search.\n",
    "    '''\n",
    "    def calculation_recursive_binary_search(arr, target, left_start, right_end):\n",
    "        '''\n",
    "        This function calculate the position of target value within arr through recursive binary search.\n",
    "        Parameters\n",
    "        ----------\n",
    "        arr : list\n",
    "            The array from which we are looking through.\n",
    "        target : integer\n",
    "            The integer we are looking for within the list.\n",
    "        left_start : integer\n",
    "            The starting index of the list.\n",
    "        right_end : integer\n",
    "            The ending index of the list.\n",
    "        Returns\n",
    "        -------\n",
    "        Position of the target number within the array arr, if target number is not present in the array then None is returned.\n",
    "        '''\n",
    "        # Comparison check for base case.\n",
    "        if right_end >= left_start:\n",
    "            \n",
    "            middle_position = left_start + (right_end - left_start) // 2\n",
    "            \n",
    "            # To check if target is at middle value.\n",
    "            if arr[middle_position] == target:\n",
    "                return middle_position\n",
    "            \n",
    "            # Discarding right side of the array if target number is smaller than middle value.\n",
    "            elif arr[middle_position] > target:\n",
    "                return calculation_recursive_binary_search(arr, target, left_start, middle_position - 1)\n",
    "            \n",
    "            # Discarding left side of the array as now the target numebr is greater than middle value.\n",
    "            else:\n",
    "                return calculation_recursive_binary_search(arr, target, middle_position + 1, right_end)\n",
    "        else:\n",
    "            return None # Target numebr not present in arr.\n",
    "    return calculation_recursive_binary_search(arr, target, 0, len(arr) - 1)"
   ]
  },
  {
   "cell_type": "code",
   "execution_count": 2,
   "metadata": {
    "ExecuteTime": {
     "end_time": "2022-01-04T18:38:44.100298Z",
     "start_time": "2022-01-04T18:38:44.097732Z"
    }
   },
   "outputs": [],
   "source": [
    "def iterative_binary_search(arr, target):\n",
    "    '''\n",
    "    This function calculate the position of target value within array arr through iterative binary search.\n",
    "    Parameters\n",
    "    ----------\n",
    "    arr : list\n",
    "        The array from which we are looking through.\n",
    "    target : integer\n",
    "        The integer we are looking for within the list.\n",
    "    Returns\n",
    "    -------\n",
    "    integer\n",
    "        Position of the target number within the array arr, if target number is not present in the array then None is returned.\n",
    "    '''\n",
    "    left_start = 0 # Index for first value.\n",
    "    right_end = len(arr) - 1 # Index for last value\n",
    "    \n",
    "    while right_end >= left_start:\n",
    "        \n",
    "        # Assigning middle value.\n",
    "        middle_position = left_start + (right_end - left_start) // 2\n",
    "        \n",
    "        # Checking whether target value is located in the middle.\n",
    "        if arr[middle_position] == target:\n",
    "            return middle_position\n",
    "        \n",
    "        # Discarding left side of the array as now the target numebr is greater than middle value.\n",
    "        elif arr[middle_position] < target:\n",
    "            left_start = middle_position + 1\n",
    "            \n",
    "        # Discarding right side of the array if target number is smaller than middle value.\n",
    "        else:\n",
    "            right_end = middle_position - 1\n",
    "    return None #Reaching this point menas we checked the whole array, and target value was not found."
   ]
  },
  {
   "cell_type": "code",
   "execution_count": 3,
   "metadata": {
    "ExecuteTime": {
     "end_time": "2022-01-04T18:38:44.216153Z",
     "start_time": "2022-01-04T18:38:44.102664Z"
    },
    "deletable": false,
    "editable": false,
    "run_control": {
     "frozen": true
    }
   },
   "outputs": [],
   "source": [
    "A = [] \n",
    "assert iterative_binary_search(A, 3) == None\n",
    "assert recursive_binary_search(A, 3) == None\n",
    "\n",
    "\n",
    "B = [1, 2]\n",
    "assert iterative_binary_search(B, 1) == 0\n",
    "assert iterative_binary_search(B, 2) == 1\n",
    "assert iterative_binary_search(B, 3) == None\n",
    "assert recursive_binary_search(B, 1) == 0\n",
    "assert recursive_binary_search(B, 2) == 1\n",
    "assert recursive_binary_search(B, 3) == None\n",
    "\n",
    "C = [1, 2, 3]\n",
    "assert iterative_binary_search(C, 1) == 0\n",
    "assert iterative_binary_search(C, 2) == 1\n",
    "assert iterative_binary_search(C, 3) == 2\n",
    "assert iterative_binary_search(C, 4) == None\n",
    "assert recursive_binary_search(C, 1) == 0\n",
    "assert recursive_binary_search(C, 2) == 1\n",
    "assert recursive_binary_search(C, 3) == 2\n",
    "assert recursive_binary_search(C, 4) == None"
   ]
  },
  {
   "cell_type": "code",
   "execution_count": 4,
   "metadata": {
    "ExecuteTime": {
     "end_time": "2022-01-05T10:53:02.003414Z",
     "start_time": "2022-01-05T10:53:02.000618Z"
    }
   },
   "outputs": [],
   "source": [
    "#Test Cases\n",
    "\n",
    "D = [-3, -1, 2] #Test case with negative and positive values.\n",
    "assert iterative_binary_search(D, -3) == 0\n",
    "assert iterative_binary_search(D, -1) == 1\n",
    "assert iterative_binary_search(D, 2) == 2\n",
    "assert iterative_binary_search(D, 0) == None\n",
    "assert recursive_binary_search(D, -3) == 0\n",
    "assert recursive_binary_search(D, -1) == 1\n",
    "assert recursive_binary_search(D, 2) == 2\n",
    "assert recursive_binary_search(D, 0) == None\n",
    "\n",
    "E = [0.1, 0.3, 0.7]#Test case with decimal values.\n",
    "assert iterative_binary_search(E, 0.1) == 0\n",
    "assert iterative_binary_search(E, 0.3) == 1\n",
    "assert iterative_binary_search(E, 0.7) == 2\n",
    "assert iterative_binary_search(E, 1) == None\n",
    "assert recursive_binary_search(E, 0.1) == 0\n",
    "assert recursive_binary_search(E, 0.3) == 1\n",
    "assert recursive_binary_search(E, 0.7) == 2\n",
    "assert recursive_binary_search(E, 1) == None\n",
    "\n",
    "F = [5, 7, 10, 12, 15, 17]#Test case with gaps between integers.\n",
    "assert iterative_binary_search(F, 5) == 0\n",
    "assert iterative_binary_search(F, 7) == 1\n",
    "assert iterative_binary_search(F, 10) == 2\n",
    "assert iterative_binary_search(F, 12) == 3\n",
    "assert iterative_binary_search(F, 15) == 4\n",
    "assert iterative_binary_search(F, 17) == 5\n",
    "assert iterative_binary_search(F, 9) == None\n",
    "assert iterative_binary_search(F, 2) == None\n",
    "assert recursive_binary_search(F, 5) == 0\n",
    "assert recursive_binary_search(F, 7) == 1\n",
    "assert recursive_binary_search(F, 10) == 2\n",
    "assert recursive_binary_search(F, 12) == 3\n",
    "assert recursive_binary_search(F, 15) == 4\n",
    "assert recursive_binary_search(F, 17) == 5\n",
    "assert recursive_binary_search(F, 9) == None"
   ]
  },
  {
   "cell_type": "markdown",
   "metadata": {
    "deletable": false,
    "editable": false,
    "run_control": {
     "frozen": true
    }
   },
   "source": [
    "**c.** What is the complexity of this algorithm? Does it depend on the implementation used (in question b)? Provide a theoretical analysis and an experimental analysis (using two metrics to determine the algorithm's efficiency) that corroborates your reasoning. "
   ]
  },
  {
   "cell_type": "markdown",
   "metadata": {},
   "source": [
    "<b>Theoretical Analysis:</b> \n",
    "\n",
    "In binary search, each iteration divides the array in half, thus reducing the number of elements by half. We can say that n represents the length of an array. Therefore after one iteration, the size of the array will be n/2. A second iteration would mean the array is reduced to n/4. So as we can see that after each iteration, n is further divided by 2, thus we can say that the iterations can go on and on until we reach the kth term, at which point the array’s length will become 1.  We can represent the length of this kth iteration array as n/2<sup>k</sup>. As we know at this point, the length of the array is supposed to be 1; we can say n/2<sup>k</sup> = 1. We can further simplify it to n = 2<sup>k</sup>. By applying the logarithmic function (with base 2) on both sides, we will get k = log<sub>2</sub>(n). Thus we can say that the time complexity of this binary search algorithm is O(log<sub>2</sub>(n)). We can ensure that both the recursive and iterative approaches have the same time complexity as both of the approaches tended to divide and discard half of the array. Both kept on going through the process of discarding, either through the while loop, iteration, or through calling the function recursion until we reached the final result. So both of them have the same complexity.\n",
    "\n",
    "\n",
    "<b>Emperical Analysis:</b>\n",
    "\n",
    "From the graph, we can see that this is true as we see the graph showing logarithmic behavior for both metrics, time, and steps. This is in accordance with our theorectical analysis.\n"
   ]
  },
  {
   "cell_type": "code",
   "execution_count": 5,
   "metadata": {
    "ExecuteTime": {
     "end_time": "2022-01-04T18:38:44.219734Z",
     "start_time": "2022-01-04T18:38:44.219717Z"
    }
   },
   "outputs": [
    {
     "data": {
      "image/png": "[encoded data removed]",
      "text/plain": [
       "<Figure size 432x288 with 1 Axes>"
      ]
     },
     "metadata": {
      "needs_background": "light"
     },
     "output_type": "display_data"
    },
    {
     "data": {
      "image/png": "[encoded data removed]",
      "text/plain": [
       "<Figure size 432x288 with 1 Axes>"
      ]
     },
     "metadata": {
      "needs_background": "light"
     },
     "output_type": "display_data"
    }
   ],
   "source": [
    "\n",
    "# Time counters\n",
    "def recursive_binary_search_time_counter(arr, target):\n",
    "    '''\n",
    "    This function acts as a dummy function which calls to an inner function to do calculations.\n",
    "    Parameters\n",
    "    ----------\n",
    "    arr : list\n",
    "        The array from which we are looking through.\n",
    "    target : integer\n",
    "        The integer we are looking for within the list.\n",
    "    Returns\n",
    "    -------\n",
    "    function \n",
    "        Calls the inside function to do the calculation for recursive binary search.\n",
    "    '''\n",
    "    def calculation_recursive_binary_search(arr, target, left_start, right_end):\n",
    "        '''\n",
    "        This function calculate the position of target value within arr through recursive binary search.\n",
    "        Parameters\n",
    "        ----------\n",
    "        arr : list\n",
    "            The array from which we are looking through.\n",
    "        target : integer\n",
    "            The integer we are looking for within the list.\n",
    "        left_start : integer\n",
    "            The starting index of the list.\n",
    "        right_end : integer\n",
    "            The ending index of the list.\n",
    "        Returns\n",
    "        -------\n",
    "        Position of the target number within the array arr, if target number is not present in the array then None is returned.\n",
    "        '''\n",
    "        # Comparison check for base case.\n",
    "        if right_end >= left_start:\n",
    "            \n",
    "            middle_position = left_start + (right_end - left_start) // 2\n",
    "            \n",
    "            # To check if target is at middle value.\n",
    "            if arr[middle_position] == target:\n",
    "                return middle_position\n",
    "            \n",
    "            # Discarding right side of the array if target number is smaller than middle value.\n",
    "            elif arr[middle_position] > target:\n",
    "                return calculation_recursive_binary_search(arr, target, left_start, middle_position - 1)\n",
    "            \n",
    "            # Discarding left side of the array as now the target numebr is greater than middle value.\n",
    "            else:\n",
    "                return calculation_recursive_binary_search(arr, target, middle_position + 1, right_end)\n",
    "        else:\n",
    "            return None # Target numebr not present in arr.\n",
    "    return calculation_recursive_binary_search(arr, target, 0, len(arr) - 1)\n",
    "\n",
    "\n",
    "def iterative_binary_search_time_counter(arr, target):\n",
    "    '''\n",
    "    This function calculate the position of target value within arrya arr through iterative binary search.\n",
    "    Parameters\n",
    "    ----------\n",
    "    arr : list\n",
    "        The array from which we are looking through.\n",
    "    target : integer\n",
    "        The integer we are looking for within the list.\n",
    "    Returns\n",
    "    -------\n",
    "    integer\n",
    "        Position of the target number within the array arr, if target number is not present in the array then None is returned.\n",
    "    '''\n",
    "    left_start = 0 # Index for first value.\n",
    "    right_end = len(arr) - 1 # Index for last value\n",
    "    \n",
    "    while right_end >= left_start:\n",
    "        \n",
    "        # Assigning middle value.\n",
    "        middle_position = left_start + (right_end - left_start) // 2\n",
    "        \n",
    "        #Checkign whetehr target value is located in the middle.\n",
    "        if arr[middle_position] == target:\n",
    "            return middle_position\n",
    "        \n",
    "        # Discarding left side of the array as now the target numebr is greater than middle value.\n",
    "        elif arr[middle_position] < target:\n",
    "            left_start = middle_position + 1\n",
    "            \n",
    "        # Discarding right side of the array if target number is smaller than middle value.\n",
    "        else:\n",
    "            right_end = middle_position - 1\n",
    "    return None #Reaching this point menas we checked the whole array, and target value was not found.\n",
    "# Step Counter\n",
    "\n",
    "def recursive_binary_search_step_counter(arr, target):\n",
    "    '''\n",
    "    This function acts as a dummy function which calls to an inner function to do calculations.\n",
    "    Parameters\n",
    "    ----------\n",
    "    arr : list\n",
    "        The array from which we are looking through.\n",
    "    target : integer\n",
    "        The integer we are looking for within the list.\n",
    "    Returns\n",
    "    -------\n",
    "    function \n",
    "        Calls the inside function to do the calculation for recursive binary search.\n",
    "    '''\n",
    "    steps = 0\n",
    "    def calculation_recursive_binary_search(arr, target, left_start, right_end, steps):\n",
    "        '''\n",
    "        This function calculate the position of target value within arr through recursive binary search.\n",
    "        Parameters\n",
    "        ----------\n",
    "        arr : list\n",
    "            The array from which we are looking through.\n",
    "        target : integer\n",
    "            The integer we are looking for within the list.\n",
    "        left_start : integer\n",
    "            The starting index of the list.\n",
    "        right_end : integer\n",
    "            The ending index of the list.\n",
    "        steps : integer\n",
    "            Number of steps it takes to complete the function\n",
    "        Returns\n",
    "        -------\n",
    "        integer\n",
    "            Number of steps the function takes to carry out a calculation.\n",
    "        '''\n",
    "        # Comparison check for base case.\n",
    "        steps += 1\n",
    "        if right_end >= left_start:\n",
    "            middle_position = left_start + (right_end - left_start) // 2\n",
    "            \n",
    "            # To check if target is at middle value.\n",
    "            steps += 1\n",
    "            if arr[middle_position] == target:\n",
    "                return steps\n",
    "            \n",
    "            # Discarding right side of the array if target number is smaller than middle value.\n",
    "            steps += 1\n",
    "            if arr[middle_position] > target:\n",
    "                return calculation_recursive_binary_search(arr, target, left_start, middle_position - 1, steps)\n",
    "            \n",
    "            # Discarding left side of the array as now the target numebr is greater than middle value.\n",
    "            else:\n",
    "                steps += 1\n",
    "                return calculation_recursive_binary_search(arr, target, middle_position + 1, right_end, steps)\n",
    "        else:\n",
    "            steps += 1\n",
    "            return steps # Target numebr not present in arr.\n",
    "    return calculation_recursive_binary_search(arr, target, 0, len(arr) - 1, steps)\n",
    "\n",
    "def iterative_binary_search_step_counter(arr, target):\n",
    "    '''\n",
    "    This function calculate the position of target value within arrya arr through iterative binary search.\n",
    "    Parameters\n",
    "    ----------\n",
    "    arr : list\n",
    "        The array from which we are looking through.\n",
    "    target : integer\n",
    "        The integer we are looking for within the list.\n",
    "    Returns\n",
    "    -------\n",
    "    integer\n",
    "        Number of steps the function takes to carry out a calculation.    \n",
    "    '''\n",
    "    steps = 0\n",
    "    left_start = 0 # Index for first value.\n",
    "    right_end = len(arr) - 1 # Index for last value\n",
    "    \n",
    "    while right_end >= left_start:\n",
    "        steps += 1\n",
    "        # Assigning middle value.\n",
    "        middle_position = left_start + (right_end - left_start) // 2\n",
    "        \n",
    "        #Checking whether target value is located in the middle.\n",
    "        steps += 1\n",
    "        if arr[middle_position] == target:\n",
    "            return steps\n",
    "        \n",
    "        # Discarding left side of the array as now the target number is greater than middle value.\n",
    "        steps += 1\n",
    "        if arr[middle_position] < target:\n",
    "            left_start = middle_position + 1\n",
    "            \n",
    "        # Discarding right side of the array if target number is smaller than middle value.\n",
    "        else:\n",
    "            steps += 1\n",
    "            right_end = middle_position - 1\n",
    "    return steps #Reaching this point means we checked the whole array, and target value was not found.\n",
    "\n",
    "import matplotlib.pyplot as plt\n",
    "import time \n",
    "\n",
    "#Initalizing lists.\n",
    "input_size = []\n",
    "\n",
    "binary_recursive_time_y = []\n",
    "binary_iterative_time_y = []\n",
    "\n",
    "binary_recursive_steps_y = []\n",
    "binary_iterative_steps_y = []\n",
    "\n",
    "trials = 1000\n",
    "factor = 10000\n",
    "\n",
    "#Loop to create inputs of varying size.\n",
    "for k in range(1,factor, 1000):\n",
    "    time_taken_r = 0\n",
    "    time_taken_i = 0\n",
    "    steps_r = 0\n",
    "    steps_i = 0\n",
    "    list_k = [i for i in range(0, 100*k)]\n",
    "    input_size.append(len(list_k))\n",
    "    \n",
    "    for i in range(trials):\n",
    "        \n",
    "        #Setting target value.\n",
    "        target = list_k[-1]\n",
    "        \n",
    "        #Finding time taken for recursive binary search per trial.\n",
    "        start_r = time.time()\n",
    "        recursive_binary_search(list_k, target)\n",
    "        end_r = time.time()\n",
    "        time_taken_r += end_r - start_r\n",
    "\n",
    "        #Finding time taken for iterative binary search per trial.        \n",
    "        start_i = time.time()\n",
    "        iterative_binary_search(list_k, target)\n",
    "        end_i = time.time()\n",
    "        time_taken_i += end_i - start_i\n",
    "        \n",
    "        # Finding steps taken for both approaches of binary search.\n",
    "        steps_r += recursive_binary_search_step_counter(list_k, target)\n",
    "        steps_i += iterative_binary_search_step_counter(list_k, target)\n",
    "    \n",
    "    #Taking an average of the values for y data points and then appending to the y lists.  \n",
    "    binary_recursive_time_y.append(time_taken_r/trials)\n",
    "    binary_iterative_time_y.append(time_taken_i/trials)\n",
    "    \n",
    "    binary_recursive_steps_y.append(steps_r/trials)\n",
    "    binary_iterative_steps_y.append(steps_i/trials)\n",
    "\n",
    "#Graph for time taken\n",
    "plt.plot(input_size, binary_recursive_time_y, label = \"Binary Recursion\")\n",
    "plt.plot(input_size, binary_iterative_time_y, label = \"Binary Iteration\")\n",
    "plt.xlabel('Input size')\n",
    "plt.ylabel('Average Time taken/seconds')\n",
    "plt.title('Time taken VS Input size')\n",
    "plt.legend()\n",
    "plt.show()\n",
    "\n",
    "#Graph for Steps\n",
    "plt.plot(input_size, binary_recursive_steps_y, label = \"Binary Recursion\")\n",
    "plt.plot(input_size, binary_iterative_steps_y, label = \"Binary Iteration\")\n",
    "plt.xlabel('Input size')\n",
    "plt.ylabel('Average Steps')\n",
    "plt.title('Steps VS Input size')\n",
    "plt.legend()\n",
    "plt.show()"
   ]
  },
  {
   "cell_type": "markdown",
   "metadata": {
    "deletable": false,
    "editable": false,
    "run_control": {
     "frozen": true
    }
   },
   "source": [
    "# Problem 2\n",
    "## Beyond binary search"
   ]
  },
  {
   "cell_type": "markdown",
   "metadata": {
    "deletable": false,
    "editable": false,
    "run_control": {
     "frozen": true
    }
   },
   "source": [
    "Building upon binary search, we can also imagine performing a ternary search. \n",
    "\n",
    "**a.** Explain in plain English how the algorithmic strategy behind ternary search builds upon the one for binary search yet is different. As before, avoid using technical jargon (such as \"indices\" and while/for loops) and focus on explaining how the algorithm works in as simple terms as possible and how it is guaranteed to return the correct answer upon termination.\n",
    "\n"
   ]
  },
  {
   "cell_type": "markdown",
   "metadata": {},
   "source": [
    "Overall we can see that ternary search uses the same divide and conquer strategy s binary search. But here, we are not dividing the list into two parts; instead, we are dividing them into 3 parts. As we are dividing the list into 3 parts, we will not have a middle value, so we will be looking at values at which we divided the list. These will lie at 1/3rd of the list and 2/3rd of the list. It is then checked if the values at these positions are the same as the target the value we are searching for. If so then simply the position is returned. If not, then we need to do some discarding. \n",
    "\n",
    "If the target value ends up being less than the value of the list at position 1/3rd then we discard all values that are equal to or greater than the value at position 1/3rd. Thus we end up with the left side of the list. The process is repeated again, and we find new values of the 1/3rd and 2/3rd position for this shortened list, and keep on repeating the process until we find the target value in the list or until our list has run out of values to check. \n",
    "\n",
    "We can also check if the target value is greater than the value at position 2/3rd, if that is the case then we discard all values that are equal to or less than the value at 2/3rd position. Again we repeat the process of finding new 1/3rd and 2/3rd values and doing the comparisons.\n",
    "\n",
    "If somehow the target value is not greater than the value at position 2/3rd and is not less than the value at position 1/3rd then we know our target value lies in between these two points, so we discard all values that are equal to or less than the 1/3rd value and also discard the values that are equal to or greater than the 2/3rd value. Now we only have the middle part left. Now we do the same procedure of finding new values for the 1/3rd and 2/3rd position using the shortened list until we either find our target value or figure out it is not present in the list run out of values to search in the list."
   ]
  },
  {
   "cell_type": "markdown",
   "metadata": {
    "deletable": false,
    "editable": false,
    "run_control": {
     "frozen": true
    }
   },
   "source": [
    "**b.** Provide a recursive and iterative coding implementation of ternary search. Your code should include some essential comments, well-chosen variable names, and you should provide at least three test cases to provide sufficient evidence that your code works as intended. \n",
    "\n"
   ]
  },
  {
   "cell_type": "code",
   "execution_count": 6,
   "metadata": {
    "ExecuteTime": {
     "end_time": "2022-01-04T18:38:44.221230Z",
     "start_time": "2022-01-04T18:38:44.221213Z"
    }
   },
   "outputs": [],
   "source": [
    "def recursive_ternary_search(arr, target):\n",
    "    '''\n",
    "    This function acts as a dummy function which calls to an inner function to do calculations.\n",
    "    Parameters\n",
    "    ----------\n",
    "    arr : list\n",
    "        The array from which we are looking through.\n",
    "    target : integer\n",
    "        The integer we are looking for within the list.\n",
    "    Returns\n",
    "    -------\n",
    "    function \n",
    "        Calls the inside function to do the calculation for recursive ternary search.\n",
    "    '''\n",
    "    def calculation_recursive_ternary_search(arr, target, left_point, right_point):\n",
    "        '''\n",
    "        This function calculate the position of target value within array arr through recursive ternary search.\n",
    "        Parameters\n",
    "        ----------\n",
    "        arr : list\n",
    "            The array from which we are looking through.\n",
    "        target : integer\n",
    "            The integer we are looking for within the list.\n",
    "        left_point : integer\n",
    "            The starting index of the list.\n",
    "        right_point : integer\n",
    "            The ending index of the list.\n",
    "        Returns\n",
    "        -------\n",
    "        integer\n",
    "            Position of the target number within the array arr, if target number is not present in the array then None is returned.\n",
    "        '''\n",
    "        \n",
    "        # Comparison check for base case.\n",
    "        if right_point >= left_point:\n",
    "            \n",
    "            # Finding the two middle values.\n",
    "            mid_point_1 = left_point + (right_point - left_point) // 3\n",
    "            mid_point_2 = right_point - (right_point - left_point) // 3\n",
    "            \n",
    "            # Checking to see if target value is present at the first middle value.\n",
    "            if arr[mid_point_1] == target:\n",
    "                return mid_point_1\n",
    "            \n",
    "            # Checking to see if the target value is present at the second middle value.\n",
    "            if arr[mid_point_2] == target:\n",
    "                return mid_point_2\n",
    "            \n",
    "            # Set of comaprisons to check where the target value lies.\n",
    "            if target < arr[mid_point_1]:\n",
    "                \n",
    "                # Target value is in between left_point and mid_point_1.\n",
    "                return calculation_recursive_ternary_search(arr, target, left_point, mid_point_1 - 1)\n",
    "            \n",
    "            elif target > arr[mid_point_2]:\n",
    "                \n",
    "                # Target value is in between mid_point_2 and right_point.\n",
    "                return calculation_recursive_ternary_search(arr, target, mid_point_2 + 1, right_point)\n",
    "            \n",
    "            else:\n",
    "                \n",
    "                # Target value is in between mid_point_1 and mid_point_2.\n",
    "                return calculation_recursive_ternary_search(arr, target, mid_point_1 + 1, mid_point_2 - 1)\n",
    "        else:\n",
    "            return None # Target value is not present in the list.\n",
    "        \n",
    "    return calculation_recursive_ternary_search(arr, target, 0, len(arr) - 1)"
   ]
  },
  {
   "cell_type": "code",
   "execution_count": 7,
   "metadata": {
    "ExecuteTime": {
     "end_time": "2022-01-04T18:38:44.222872Z",
     "start_time": "2022-01-04T18:38:44.222854Z"
    }
   },
   "outputs": [],
   "source": [
    "def iterative_ternary_search(arr, target):\n",
    "    '''\n",
    "    This function calculate the position of target value within array arr through iterative ternary search.\n",
    "    Parameters\n",
    "    ----------\n",
    "    arr : list\n",
    "        The array from which we are looking through.\n",
    "    target : integer\n",
    "        The integer we are looking for within the list.\n",
    "    Returns\n",
    "    -------\n",
    "    integer\n",
    "        Position of the target number within the array arr, if target number is not present in the array then None is returned.\n",
    "    '''\n",
    "    left_point = 0 # Index for first value of arr.\n",
    "    right_point = len(arr) - 1 # Index for last value of arr.\n",
    "    \n",
    "    while right_point >= left_point:\n",
    "        \n",
    "        # Calculaitons to find the two middle values.\n",
    "        mid_point_1 = left_point + (right_point - left_point) // 3\n",
    "        mid_point_2 = right_point - (right_point - left_point) //3\n",
    "        \n",
    "        # Comparisons to check if the target value is located at the assigned middle values.\n",
    "        if arr[mid_point_1] == target:\n",
    "            return mid_point_1\n",
    "        \n",
    "        if arr[mid_point_2] == target:\n",
    "            return mid_point_2\n",
    "        \n",
    "        # COmparisons to check in which region target value is located.\n",
    "        if target < arr[mid_point_1]:\n",
    "            \n",
    "            # Target value is in between left_point and mid_point_1.\n",
    "            right_point = mid_point_1 - 1\n",
    "            \n",
    "        elif target > arr[mid_point_2]:\n",
    "            \n",
    "            # Target value is in between mid_point_2 and right_point.\n",
    "            left_point = mid_point_2 + 1\n",
    "            \n",
    "        else:\n",
    "            \n",
    "            # Target value is in between mid_point_1 and mid_point_2.\n",
    "            left_point = mid_point_1 + 1\n",
    "            right_point = mid_point_2 - 1\n",
    "            \n",
    "    return None# Target value is not present in the list."
   ]
  },
  {
   "cell_type": "code",
   "execution_count": 8,
   "metadata": {
    "ExecuteTime": {
     "end_time": "2022-01-04T18:38:44.224760Z",
     "start_time": "2022-01-04T18:38:44.224730Z"
    },
    "deletable": false,
    "editable": false,
    "run_control": {
     "frozen": true
    }
   },
   "outputs": [],
   "source": [
    "A = [] \n",
    "assert iterative_ternary_search(A, 3) == None\n",
    "assert recursive_ternary_search(A, 3) == None\n",
    "\n",
    "B = [1, 2]\n",
    "assert iterative_ternary_search(B, 1) == 0\n",
    "assert iterative_ternary_search(B, 2) == 1\n",
    "assert iterative_ternary_search(B, 3) == None\n",
    "assert recursive_ternary_search(B, 1) == 0\n",
    "assert recursive_ternary_search(B, 2) == 1\n",
    "assert recursive_ternary_search(B, 3) == None\n",
    "\n",
    "C = [1, 2, 3]\n",
    "assert iterative_ternary_search(C, 1) == 0\n",
    "assert iterative_ternary_search(C, 2) == 1\n",
    "assert iterative_ternary_search(C, 3) == 2\n",
    "assert iterative_ternary_search(C, 4) == None\n",
    "assert recursive_ternary_search(C, 1) == 0\n",
    "assert recursive_ternary_search(C, 2) == 1\n",
    "assert recursive_ternary_search(C, 3) == 2\n",
    "assert recursive_ternary_search(C, 4) == None"
   ]
  },
  {
   "cell_type": "code",
   "execution_count": 9,
   "metadata": {
    "ExecuteTime": {
     "end_time": "2022-01-04T18:38:44.226233Z",
     "start_time": "2022-01-04T18:38:44.226203Z"
    }
   },
   "outputs": [],
   "source": [
    "#Test Cases\n",
    "\n",
    "D = [-3, -1, 2] #Test case with negative and positive values.\n",
    "assert iterative_binary_search(D, -3) == 0\n",
    "assert iterative_binary_search(D, -1) == 1\n",
    "assert iterative_binary_search(D, 2) == 2\n",
    "assert iterative_binary_search(D, 0) == None\n",
    "assert recursive_binary_search(D, -3) == 0\n",
    "assert recursive_binary_search(D, -1) == 1\n",
    "assert recursive_binary_search(D, 2) == 2\n",
    "assert recursive_binary_search(D, 0) == None\n",
    "\n",
    "E = [0.1, 0.3, 0.7]#Test case with decimal values.\n",
    "assert iterative_binary_search(E, 0.1) == 0\n",
    "assert iterative_binary_search(E, 0.3) == 1\n",
    "assert iterative_binary_search(E, 0.7) == 2\n",
    "assert iterative_binary_search(E, 1) == None\n",
    "assert recursive_binary_search(E, 0.1) == 0\n",
    "assert recursive_binary_search(E, 0.3) == 1\n",
    "assert recursive_binary_search(E, 0.7) == 2\n",
    "assert recursive_binary_search(E, 1) == None\n",
    "\n",
    "F = [5, 7, 10, 12, 15, 17]#Test case with gaps between integers.\n",
    "assert iterative_binary_search(F, 5) == 0\n",
    "assert iterative_binary_search(F, 7) == 1\n",
    "assert iterative_binary_search(F, 10) == 2\n",
    "assert iterative_binary_search(F, 12) == 3\n",
    "assert iterative_binary_search(F, 15) == 4\n",
    "assert iterative_binary_search(F, 17) == 5\n",
    "assert iterative_binary_search(F, 9) == None\n",
    "assert iterative_binary_search(F, 2) == None\n",
    "assert recursive_binary_search(F, 5) == 0\n",
    "assert recursive_binary_search(F, 7) == 1\n",
    "assert recursive_binary_search(F, 10) == 2\n",
    "assert recursive_binary_search(F, 12) == 3\n",
    "assert recursive_binary_search(F, 15) == 4\n",
    "assert recursive_binary_search(F, 17) == 5\n",
    "assert recursive_binary_search(F, 9) == None\n",
    "assert recursive_binary_search(F, 2) == None"
   ]
  },
  {
   "cell_type": "markdown",
   "metadata": {
    "deletable": false,
    "editable": false,
    "run_control": {
     "frozen": true
    }
   },
   "source": [
    "**c.** What is the complexity of this algorithm? Does it depend on the implementation used (in question b)? Provide a theoretical analysis and an experimental analysis that corroborates your reasoning. \n",
    "\n"
   ]
  },
  {
   "cell_type": "markdown",
   "metadata": {},
   "source": [
    "<b>Theoretical Anaysis:</b>\n",
    "\n",
    "For each iteration, the ternary search algorithm divides the array into three parts thus reducing the number of elements in these subarrays by a third. If we consider the length of an array to be n, then after one iteration, we can say the size of the subarray is n/3. After we go through the second iteration each of the three subarrays will have further 3 subarrays so we can donate these as n/9. We see that the denominator is rising by a factor of 3, so we can generalize it for k iterations as n/3<sup>k</sup>. We can say that after k iterations, the length of the subarray will become 1, meaning we will only have one element in these subarrays, it can be represented as 1 = n/3<sup>k</sup>. We can further simplify it to n = 3<sup>k</sup>. If we take the logarithmic of base 3 of both sides, we will get k = log<sub>3</sub>(n). This means that the complexity of the ternary search algorithm will be O(log<sub>3</sub>(n)). \n",
    "\n",
    "Even though we took two different approaches for ternary search, recursive and iterative, the complexity will remain the starts and then comparing and refining it to further subarrays. The refining part was done using the while loop in the iterative approach while it was done by calling the function again and again in the recursive approach. me. This is true because both algorithms followed the same basic steps of dividing the array into 3 parts.\n",
    "    \n",
    "<b>Emperical Anlaysis:</b>\n",
    "\n",
    "From the graph, we can see that this is true as we see the graph showing logarithmic behavior for both metrics, time, and steps. This is in accordance with our theorectical analysis.\n"
   ]
  },
  {
   "cell_type": "code",
   "execution_count": 10,
   "metadata": {
    "ExecuteTime": {
     "end_time": "2022-01-04T18:38:44.228514Z",
     "start_time": "2022-01-04T18:38:44.228497Z"
    }
   },
   "outputs": [
    {
     "data": {
      "image/png": "[encoded data removed]",
      "text/plain": [
       "<Figure size 432x288 with 1 Axes>"
      ]
     },
     "metadata": {
      "needs_background": "light"
     },
     "output_type": "display_data"
    },
    {
     "data": {
      "image/png": "[encoded data removed]",
      "text/plain": [
       "<Figure size 432x288 with 1 Axes>"
      ]
     },
     "metadata": {
      "needs_background": "light"
     },
     "output_type": "display_data"
    }
   ],
   "source": [
    "#Time Counter\n",
    "def recursive_ternary_search_time_counter(arr, target):\n",
    "    '''\n",
    "    This function acts as a dummy function which calls to an inner function to do calculations.\n",
    "    Parameters\n",
    "    ----------\n",
    "    arr : list\n",
    "        The array from which we are looking through.\n",
    "    target : integer\n",
    "        The integer we are looking for within the list.\n",
    "    Returns\n",
    "    -------\n",
    "    function \n",
    "        Calls the inside function to do the calculation for recursive ternary search.\n",
    "    '''\n",
    "    def calculation_recursive_ternary_search(arr, target, left_point, right_point):\n",
    "        '''\n",
    "        This function calculate the position of target value within array arr through recursive ternary search.\n",
    "        Parameters\n",
    "        ----------\n",
    "        arr : list\n",
    "            The array from which we are looking through.\n",
    "        target : integer\n",
    "            The integer we are looking for within the list.\n",
    "        left_point : integer\n",
    "            The starting index of the list.\n",
    "        right_point : integer\n",
    "            The ending index of the list.\n",
    "        Returns\n",
    "        -------\n",
    "        integer\n",
    "            Position of the target number within the array arr, if target number is not present in the array then None is returned.\n",
    "        '''\n",
    "        \n",
    "        # Comparison check for base case.\n",
    "        if right_point >= left_point:\n",
    "            \n",
    "            # Finding the two middle values.\n",
    "            mid_point_1 = left_point + (right_point - left_point) // 3\n",
    "            mid_point_2 = right_point - (right_point - left_point) // 3\n",
    "            \n",
    "            # Checking to see if target value is present at the first middle value.\n",
    "            if arr[mid_point_1] == target:\n",
    "                return mid_point_1\n",
    "            \n",
    "            # Checking to see if the target value is present at the second middle value.\n",
    "            if arr[mid_point_2] == target:\n",
    "                return mid_point_2\n",
    "            \n",
    "            # Set of comaprisons to check where the target value lies.\n",
    "            if target < arr[mid_point_1]:\n",
    "                \n",
    "                # Target value is in between left_point and mid_point_1.\n",
    "                return calculation_recursive_ternary_search(arr, target, left_point, mid_point_1 - 1)\n",
    "            \n",
    "            elif target > arr[mid_point_2]:\n",
    "                \n",
    "                # Target value is in between mid_point_2 and right_point.\n",
    "                return calculation_recursive_ternary_search(arr, target, mid_point_2 + 1, right_point)\n",
    "            \n",
    "            else:\n",
    "                \n",
    "                # Target value is in between mid_point_1 and mid_point_2.\n",
    "                return calculation_recursive_ternary_search(arr, target, mid_point_1 + 1, mid_point_2 - 1)\n",
    "        else:\n",
    "            return None # Target value is not present in the list.\n",
    "        \n",
    "    return calculation_recursive_ternary_search(arr, target, 0, len(arr) - 1)\n",
    "\n",
    "\n",
    "def iterative_ternary_search_time_counter(arr, target):\n",
    "    '''\n",
    "    This function calculate the position of target value within array arr through iterative ternary search.\n",
    "    Parameters\n",
    "    ----------\n",
    "    arr : list\n",
    "        The array from which we are looking through.\n",
    "    target : integer\n",
    "        The integer we are looking for within the list.\n",
    "    Returns\n",
    "    -------\n",
    "    integer\n",
    "        Position of the target number within the array arr, if target number is not present in the array then None is returned.\n",
    "    '''\n",
    "    left_point = 0 # Index for first value of arr.\n",
    "    right_point = len(arr) - 1 # Index for last value of arr.\n",
    "    \n",
    "    while right_point >= left_point:\n",
    "        \n",
    "        # Calculaitons to find the two middle values.\n",
    "        mid_point_1 = left_point + (right_point - left_point) // 3\n",
    "        mid_point_2 = right_point - (right_point - left_point) //3\n",
    "        \n",
    "        # Comparisons to check if the target value is located at the assigned middle values.\n",
    "        if arr[mid_point_1] == target:\n",
    "            return mid_point_1\n",
    "        \n",
    "        if arr[mid_point_2] == target:\n",
    "            return mid_point_2\n",
    "        \n",
    "        # COmparisons to check in which region target value is located.\n",
    "        if target < arr[mid_point_1]:\n",
    "            \n",
    "            # Target value is in between left_point and mid_point_1.\n",
    "            right_point = mid_point_1 - 1\n",
    "            \n",
    "        elif target > arr[mid_point_2]:\n",
    "            \n",
    "            # Target value is in between mid_point_2 and right_point.\n",
    "            left_point = mid_point_2 + 1\n",
    "            \n",
    "        else:\n",
    "            \n",
    "            # Target value is in between mid_point_1 and mid_point_2.\n",
    "            left_point = mid_point_1 + 1\n",
    "            right_point = mid_point_2 - 1\n",
    "            \n",
    "    return None# Target value is not present in the list.\n",
    "\n",
    "\n",
    "# Step Counter\n",
    "\n",
    "def recursive_ternary_search_step_counter(arr, target):\n",
    "    '''\n",
    "    This function acts as a dummy function which calls to an inner function to do calculations.\n",
    "    Parameters\n",
    "    ----------\n",
    "    arr : list\n",
    "        The array from which we are looking through.\n",
    "    target : integer\n",
    "        The integer we are looking for within the list.\n",
    "    Returns\n",
    "    -------\n",
    "    function \n",
    "        Calls the inside function to do the calculation for recursive ternary search.\n",
    "    '''\n",
    "    steps = 0\n",
    "    def calculation_recursive_ternary_search(arr, target, left_point, right_point, steps):\n",
    "        '''\n",
    "        This function calculate the position of target value within array arr through recursive ternary search.\n",
    "        Parameters\n",
    "        ----------\n",
    "        arr : list\n",
    "            The array from which we are looking through.\n",
    "        target : integer\n",
    "            The integer we are looking for within the list.\n",
    "        left_point : integer\n",
    "            The starting index of the list.\n",
    "        right_point : integer\n",
    "            The ending index of the list.\n",
    "        steps : integer\n",
    "            A counter which calculates the numebr of steps it takes to complete the function.\n",
    "        Returns\n",
    "        -------\n",
    "        integer\n",
    "            Number of steps the function takes to carry out a calculation.\n",
    "        '''\n",
    "        steps += 1\n",
    "        # Comparison check for base case.\n",
    "        if right_point >= left_point:\n",
    "            \n",
    "            # Finding the two middle values.\n",
    "            mid_point_1 = left_point + (right_point - left_point) // 3\n",
    "            mid_point_2 = right_point - (right_point - left_point) // 3\n",
    "            \n",
    "            steps += 1\n",
    "            # Checking to see if target value is present at the first middle value.\n",
    "            if arr[mid_point_1] == target:\n",
    "                return steps\n",
    "            \n",
    "            steps += 1\n",
    "            # Checking to see if the target value is present at the second middle value.\n",
    "            if arr[mid_point_2] == target:\n",
    "                return steps\n",
    "            \n",
    "            steps += 1\n",
    "            # Set of comaprisons to check where the target value lies.\n",
    "            if target < arr[mid_point_1]:\n",
    "                \n",
    "                # Target value is in between left_point and mid_point_1.\n",
    "                return calculation_recursive_ternary_search(arr, target, left_point, mid_point_1 - 1, steps)\n",
    "            \n",
    "            steps += 1\n",
    "            if target > arr[mid_point_2]:\n",
    "                \n",
    "                # Target value is in between mid_point_2 and right_point.\n",
    "                return calculation_recursive_ternary_search(arr, target, mid_point_2 + 1, right_point, steps)\n",
    "            \n",
    "            else:\n",
    "                steps += 1\n",
    "                # Target value is in between mid_point_1 and mid_point_2.\n",
    "                return calculation_recursive_ternary_search(arr, target, mid_point_1 + 1, mid_point_2 - 1, steps)\n",
    "        else:\n",
    "            return steps # Target value is not present in the list.\n",
    "        \n",
    "    return calculation_recursive_ternary_search(arr, target, 0, len(arr) - 1, steps)\n",
    "\n",
    "def iterative_ternary_search_step_counter(arr, target):\n",
    "    '''\n",
    "    This function calculate the position of target value within array arr through iterative ternary search.\n",
    "    Parameters\n",
    "    ----------\n",
    "    arr : list\n",
    "        The array from which we are looking through.\n",
    "    target : integer\n",
    "        The integer we are looking for within the list.\n",
    "    Returns\n",
    "    -------\n",
    "    integer\n",
    "        Number of steps the function takes to carry out a calculation.\n",
    "    '''\n",
    "    steps = 0\n",
    "    left_point = 0 # Index for first value of arr.\n",
    "    right_point = len(arr) - 1 # Index for last value of arr.\n",
    "    \n",
    "    while right_point >= left_point:\n",
    "        steps += 1\n",
    "        \n",
    "        # Calculaitons to find the two middle values.\n",
    "        mid_point_1 = left_point + (right_point - left_point) // 3\n",
    "        mid_point_2 = right_point - (right_point - left_point) //3\n",
    "        \n",
    "        steps += 1\n",
    "        # Comparisons to check if the target value is located at the assigned middle values.\n",
    "        if arr[mid_point_1] == target:\n",
    "            return steps\n",
    "        \n",
    "        steps += 1\n",
    "        if arr[mid_point_2] == target:\n",
    "            return steps\n",
    "        \n",
    "        steps += 1\n",
    "        # Comparisons to check in which region target value is located.\n",
    "        if target < arr[mid_point_1]:\n",
    "            \n",
    "            # Target value is in between left_point and mid_point_1.\n",
    "            right_point = mid_point_1 - 1\n",
    "        \n",
    "        steps += 1\n",
    "        if target > arr[mid_point_2]:\n",
    "            \n",
    "            # Target value is in between mid_point_2 and right_point.\n",
    "            left_point = mid_point_2 + 1\n",
    "            \n",
    "        else:\n",
    "            steps += 1\n",
    "            # Target value is in between mid_point_1 and mid_point_2.\n",
    "            left_point = mid_point_1 + 1\n",
    "            right_point = mid_point_2 - 1\n",
    "            \n",
    "    return steps# Target value is not present in the list.\n",
    "\n",
    "\n",
    "#Plotting\n",
    "import matplotlib.pyplot as plt\n",
    "import time \n",
    "\n",
    "#Initializing lists.\n",
    "input_size = []\n",
    "\n",
    "ternary_recursive_time_y = []\n",
    "ternary_iterative_time_y = []\n",
    "\n",
    "ternary_recursive_steps_y = []\n",
    "ternary_iterative_steps_y = []\n",
    "\n",
    "trials = 1000\n",
    "factor = 10000\n",
    "\n",
    "#Loop to create inputs of varying size.\n",
    "for k in range(1,factor,1000):\n",
    "    time_taken_r = 0\n",
    "    time_taken_i = 0\n",
    "    steps_r = 0\n",
    "    steps_i = 0\n",
    "    list_k = [i for i in range(0, 100*k)]\n",
    "    input_size.append(len(list_k))\n",
    "    \n",
    "    for i in range(trials):\n",
    "        \n",
    "        #Setting target value.\n",
    "        target = list_k[-1]\n",
    "        \n",
    "        #Finding time taken for recursive ternary search per trial.\n",
    "        start_r = time.time()\n",
    "        recursive_ternary_search_time_counter(list_k, target)\n",
    "        end_r = time.time()\n",
    "        time_taken_r += end_r - start_r\n",
    "        \n",
    "        #Finding time taken for iterative ternary search per trial.\n",
    "        start_i = time.time()\n",
    "        iterative_ternary_search_time_counter(list_k, target)\n",
    "        end_i = time.time()\n",
    "        time_taken_i += end_i - start_i\n",
    "        \n",
    "        #Finding steps taken for both approaches of ternary search.\n",
    "        steps_r += recursive_ternary_search_step_counter(list_k, target)\n",
    "        steps_i += iterative_ternary_search_step_counter(list_k, target)\n",
    "        \n",
    "    #Taking an average of the values for y data points and then appending to the y lists.    \n",
    "    ternary_recursive_time_y.append(time_taken_r/trials)\n",
    "    ternary_iterative_time_y.append(time_taken_i/trials)\n",
    "    \n",
    "    ternary_recursive_steps_y.append(steps_r/trials)\n",
    "    ternary_iterative_steps_y.append(steps_i/trials)\n",
    "\n",
    "#Graph for time taken\n",
    "plt.plot(input_size, ternary_recursive_time_y, label = \"Ternary Recursion\")\n",
    "plt.plot(input_size, ternary_iterative_time_y, label = \"Ternary Iteration\")\n",
    "plt.xlabel('Input size')\n",
    "plt.ylabel('Average Time taken/seconds')\n",
    "plt.title('Time taken VS Input size')\n",
    "plt.legend()\n",
    "plt.show()\n",
    "\n",
    "#Graph for Steps\n",
    "plt.plot(input_size, ternary_recursive_steps_y, label = \"Ternary Recursion\")\n",
    "plt.plot(input_size, ternary_iterative_steps_y, label = \"Ternary Iteration\", linestyle='--')\n",
    "plt.xlabel('Input size')\n",
    "plt.ylabel('Average Steps')\n",
    "plt.title('Steps VS Input size')\n",
    "plt.legend()\n",
    "plt.show()"
   ]
  },
  {
   "cell_type": "markdown",
   "metadata": {
    "deletable": false,
    "editable": false,
    "run_control": {
     "frozen": true
    }
   },
   "source": [
    "**d.** Produce an experimental analysis to contrast the runtime complexity of binary search with ternary search. Which one is best, if any? Explain your reasoning."
   ]
  },
  {
   "cell_type": "code",
   "execution_count": 11,
   "metadata": {
    "ExecuteTime": {
     "end_time": "2022-01-04T18:38:44.229751Z",
     "start_time": "2022-01-04T18:38:44.229732Z"
    }
   },
   "outputs": [
    {
     "data": {
      "image/png": "[encoded data removed]",
      "text/plain": [
       "<Figure size 432x288 with 1 Axes>"
      ]
     },
     "metadata": {
      "needs_background": "light"
     },
     "output_type": "display_data"
    },
    {
     "data": {
      "image/png": "[encoded data removed]",
      "text/plain": [
       "<Figure size 432x288 with 1 Axes>"
      ]
     },
     "metadata": {
      "needs_background": "light"
     },
     "output_type": "display_data"
    }
   ],
   "source": [
    "#Graph for Time vs Input Size\n",
    "plt.plot(input_size, binary_recursive_time_y, label = \"Binary Recursion\")\n",
    "plt.plot(input_size, binary_iterative_time_y, label = \"Binary Iteration\")\n",
    "plt.plot(input_size, ternary_recursive_time_y, label = \"Ternary Recursion\")\n",
    "plt.plot(input_size, ternary_iterative_time_y, label = \"Ternary Iteration\")\n",
    "plt.xlabel('Input size')\n",
    "plt.ylabel('Average Time taken/seconds')\n",
    "plt.title('Time taken VS Input size')\n",
    "plt.legend()\n",
    "plt.show()\n",
    "\n",
    "#Graph for Steps vs Input Size\n",
    "plt.plot(input_size, binary_recursive_steps_y, label = \"Binary Recursion\")\n",
    "plt.plot(input_size, binary_iterative_steps_y, label = \"Binary Iteration\")\n",
    "plt.plot(input_size, ternary_recursive_steps_y, label = \"Ternary Recursion\")\n",
    "plt.plot(input_size, ternary_iterative_steps_y, label = \"Ternary Iteration\", linestyle='--')\n",
    "plt.xlabel('Input size')\n",
    "plt.ylabel('Average Steps')\n",
    "plt.title('Steps VS Input size')\n",
    "plt.legend()\n",
    "plt.show()"
   ]
  },
  {
   "cell_type": "markdown",
   "metadata": {},
   "source": [
    "We can see from the graph that binary search is better than ternary search even though it is not by a huge margin. On the surface when we look at the complexity of both algorithms, it looks as if the ternary search will do fewer comparisons as it makes log<sub>3</sub>n recursive calls as compared to binary search’s log<sub>2</sub>n recursive calls. However, by adding the factor, which represents the comparisons, next to the logarithmic we can see why binary search is better than ternary search.\n",
    "\n",
    "Binary search has two comparisons whether the element is found in the middle value or whether we need to go right or left, while ternary search ahs 4 comparisons, whether the element is found at the first middle value, whether it is found at the second middle value, whether we need to go left of the first middle value and whether we need to go right of the second middle value.\n",
    "\n",
    "So we can define the complexity of binary search as 2*log<sub>2</sub>(n) + O(1), where factor 2 represents a comparison, base 2 represents a number of subarrays per iteration, and O(1) represents of the order of 1, which will be constant. While we can define the complexity of ternary search as 4*log<sub>3</sub>(n) + O(1). As O(1) is a constant value, we can eliminate it, and as we know, we are comparing the two values, we can further simplify the complexities to log<sub>2</sub>(n) and 2*log<sub>3</sub>(n). \n",
    "\n",
    "We can represent 2*log<sub>3</sub>(n) as 2*(log<sub>2</sub>(2)/log<sub>2</sub>(3))*log<sub>2</sub>(n), and as log<sub>2</sub>(2) is just 1 we can say:(2/log<sub>2</sub>(3))*log<sub>2</sub>(n), this can be considered the expanded mathematical interpretation of ternary search’s complexity. While there is no need to expand binary search’s complexity as there is no factor left, log<sub>2</sub>(n). We see that both sides have the common value of log<sub>2</sub>(n) so we can put it aside when comparing. This leaves us with 1 for binary search and 2/log<sub>2</sub>(3)for ternary search. We know that 2/log<sub>2</sub>(3)will be greater than 1, approximately 1.262, thus we can say that ternary search algorithm will make more comparisons, and thus binary search is better than ternary search."
   ]
  },
  {
   "cell_type": "markdown",
   "metadata": {
    "deletable": false,
    "editable": false,
    "run_control": {
     "frozen": true
    }
   },
   "source": [
    "**e.** Of course, nothing forbids us from generalizing our algorithm further. Consider the $k$-th way search (i.e., the division of the input array into k parts). Based on the previous answers, what would the runtime complexity of this algorithm be? Explain your answer in as much detail as you can.\n",
    "\n"
   ]
  },
  {
   "cell_type": "markdown",
   "metadata": {},
   "source": [
    "As we know, dividing an array into k terms would mean that we will create k subarrays after each iteration. We can say that the length of an array is n. So after the first iteration, the length of the subarrays will be n/k, while after the second iteration, the power of the denominator will increase by one thus becoming n/k<sup>2</sup>. We can continue to iterate until the length of the subarrays becomes 1, this will be possible when we reach p iterations, in other words, n/k<sup>p</sup>, which will be equal to 1 so 1 = n/k<sup>p</sup>. This can be simplified to n = k<sup>p</sup>. We can take the logarithmic of both sides will base p, which would give us, p = log<sub>k</sub>(n). This means that the complexity of kth-way search will be O(log<sub>k</sub>(n))."
   ]
  },
  {
   "cell_type": "markdown",
   "metadata": {
    "deletable": false,
    "editable": false,
    "run_control": {
     "frozen": true
    }
   },
   "source": [
    "**f.** **[Optional challenge]** Implement $k$-th way search in Python and provide at least three test cases to argue that your code is correct. Plot the runtime for the $k$-th way search as a function of the input size. Does this match your expectation from the complexity analysis you derived in question **e**? Why or why not?"
   ]
  },
  {
   "cell_type": "code",
   "execution_count": 12,
   "metadata": {
    "ExecuteTime": {
     "end_time": "2022-01-04T18:38:44.231387Z",
     "start_time": "2022-01-04T18:38:44.231356Z"
    }
   },
   "outputs": [],
   "source": [
    "###YOUR CODE HERE"
   ]
  },
  {
   "cell_type": "markdown",
   "metadata": {},
   "source": [
    "YOUR ANSWER HERE"
   ]
  },
  {
   "cell_type": "markdown",
   "metadata": {
    "deletable": false,
    "editable": false,
    "run_control": {
     "frozen": true
    }
   },
   "source": [
    "# Problem 3\n",
    "## Exploring bucket sort"
   ]
  },
  {
   "cell_type": "markdown",
   "metadata": {
    "deletable": false,
    "editable": false,
    "run_control": {
     "frozen": true
    }
   },
   "source": [
    "There are many sorting algorithms, and we have only covered a handful in class! In this question, you will implement and critique a sorting algorithm we haven't discussed in class. You will then combine it with another known sorting algorithm to see whether you can reach better behavior. This is the most challenging assignment question, so schedule enough time for it.\n",
    "\n",
    "Bucket sort (or Bin sort) is an algorithm that takes as inputs an $n$-element array and the number of buckets, $k$, to be used during sorting. Then, the algorithm distributes the input array elements into $k$ different buckets and proceeds to sort the individual buckets. Then, it merges the sorted buckets to obtain the sorted array. `bucket_sort` calls the function `get_bucket_num` (see the pseudocode below) to distribute all the elements of the array $lst$ into $k$ buckets. Every element in the array is assigned a bucket number based on its value (positive or negative numbers). `get_bucket_num` returns the bucket number corresponding to element $lst[i]$. It takes as inputs:\n",
    "- the element of the array, $lst[i]$, \n",
    "- the max and min elements in $lst$, \n",
    "- the size of the intervals in every bucket (e.g., if you have numbers with values between 0 and 100 numbers and 5 buckets, every bucket has an interval of size  $20=(100−0)/5$ ). Notice that in the pseudocode the indices of the arrays are from 1 to $n$ (as you would see in Cormen et al.).\n",
    "- the value of $k$.\n",
    "\n",
    "Thus, `get_bucket_num` consistently returns a number between 1 and $n$ (make sure you account for this in your Python program).\n",
    "\n",
    "Here is **pseudocode** (*not* Python code) for the `bucket_sort` algorithm:\n",
    "```\n",
    "def bucket_sort(lst, k):\n",
    "    mn = the minimum value in the array\n",
    "    mx = the maximum value in the array\n",
    "    sz = size of the numerical interval of every bucket (ceiling((max - min)/k))\n",
    "    buckets = array of k empty buckets\n",
    "  \n",
    "    # distribute elements in k buckets\n",
    "    for i = 1 to lst.length:\n",
    "        # assign a bucket number to every element in lst\n",
    "        b = get_bucket_num(lst[i], mn, mx, sz, k)\n",
    "        buckets[b].append(lst[i])\n",
    "    # sort buckets individually\n",
    "    for i = 1 to k:\n",
    "        my_sort(buckets[i]) # using a specific sorting algorithm\n",
    "    # concatenate contents of buckets\n",
    "    lst = buckets[1] + buckets[2] + ... + buckets[k]\n",
    "    return sorted list\n",
    "```\n",
    "with the `get_bucket_num` function working as follows:\n",
    "```\n",
    "def get_bucket_num(a, mn, mx, sz, k):\n",
    "    if a == mx:\n",
    "        j = k\n",
    "    elseif a == mn:\n",
    "        j = 1\n",
    "    else:\n",
    "        j = 1\n",
    "        while a >= mn+(sz*j):\n",
    "            j = j + 1\n",
    "    return j\n",
    "```"
   ]
  },
  {
   "cell_type": "markdown",
   "metadata": {
    "deletable": false,
    "editable": false,
    "run_control": {
     "frozen": true
    }
   },
   "source": [
    "**a.** Use the pseudocode above to fill in the Python's implementation of `bucket_sort` below. This function should *recursively call* `bucket_sort` through `my_sort`."
   ]
  },
  {
   "cell_type": "code",
   "execution_count": 13,
   "metadata": {},
   "outputs": [],
   "source": [
    "import math \n",
    "\n",
    "def bucket_sort(lst,k=5,holding_list=None):\n",
    "    \"\"\"Implements recursive BucketSort\n",
    "\n",
    "    Parameters\n",
    "    ----------\n",
    "    lst : Python list or numpy array\n",
    "    k : int (default=5)\n",
    "        number of buckets to used in sorting\n",
    "    holding_list : array (default=None)\n",
    "        holds the final list in sequence\n",
    "    Returns\n",
    "    -------\n",
    "    array: a sorted Python list or numpy array\n",
    "    \"\"\"\n",
    "    #Initializing a lsit to hold final sorted list.\n",
    "    if holding_list == None:\n",
    "        holding_list = []\n",
    "    \n",
    "    #Calculating the numerics needed for bucket assignment.\n",
    "    mn = min(lst)\n",
    "    mx = max(lst)\n",
    "    sz = math.ceil ((mx-mn)/k)\n",
    "    buckets = []\n",
    "    \n",
    "    #creating buckets to hold numbers\n",
    "    for i in range(k):\n",
    "        buckets.append([])\n",
    "        \n",
    "    #distribuute elements in k buckets\n",
    "    for i in range(len(lst)):\n",
    "        \n",
    "        b = get_bucket_num(lst[i],mn,mx,sz,k)\n",
    "        buckets[b].append(lst[i])\n",
    "        \n",
    "    #sort buckets individualls\n",
    "    for i in buckets:\n",
    "        if len(i)>1:\n",
    "            bucket_sort(i,5,holding_list)\n",
    "        #concatenate contents of buckets\n",
    "        elif len(i)==1:\n",
    "            holding_list.append(*i)\n",
    "\n",
    "    return holding_list\n",
    "    raise NotImplementedError()\n",
    "\n",
    "def get_bucket_num(a,mn,mx,sz,k):\n",
    "    \"\"\"Calculates which bucket a given element should be sorted to.\n",
    "    \n",
    "    Parameters\n",
    "    ----------\n",
    "    a: an element of the list (usually a number)\n",
    "    mn: float\n",
    "        smallest element value\n",
    "    mx: float\n",
    "        largest element value\n",
    "    sz: int\n",
    "        bucket size\n",
    "    k: int\n",
    "        number of buckets\n",
    "    \n",
    "    Returns\n",
    "    -------\n",
    "    int: the correct bucket number for element a\n",
    "    \n",
    "    \"\"\"\n",
    "    #Sorting elelments into buckets based on their values.\n",
    "    if a == mx:\n",
    "        j = k\n",
    "    elif a == mn:\n",
    "        j = 1\n",
    "    else:\n",
    "        j = 1\n",
    "        while a >= (mn+(sz*j)):\n",
    "            j += 1\n",
    "    #Index is counted an extra time so we decrement j\n",
    "    return j - 1\n",
    "    raise NotImplementedError()"
   ]
  },
  {
   "cell_type": "markdown",
   "metadata": {
    "deletable": false,
    "editable": false,
    "run_control": {
     "frozen": true
    }
   },
   "source": [
    "**b.** To the singular test provided below, add at least **five** more assert statements, which showcase that your code works as intended. In a few sentences, justify why your set of tests is appropriate and possibly sufficient."
   ]
  },
  {
   "cell_type": "code",
   "execution_count": 14,
   "metadata": {
    "deletable": false,
    "editable": false,
    "run_control": {
     "frozen": true
    }
   },
   "outputs": [],
   "source": [
    "input_array = [8, 5, 4, 6, 7, 2, 9, 1, 3]\n",
    "assert bucket_sort(input_array, 3) == sorted(input_array)"
   ]
  },
  {
   "cell_type": "code",
   "execution_count": 15,
   "metadata": {},
   "outputs": [],
   "source": [
    "input_array = [8, 5, 4, 6, 7, 2, 9, 1, 3]\n",
    "assert bucket_sort(input_array, 3) == sorted(input_array)\n",
    "# Test Cases\n",
    "A = [1, 2, 3, 4, 5, 6, 7, 8, 9] # Best Case\n",
    "B = [9, 8, 7, 6, 5, 4, 3, 2, 1] # Worst Case\n",
    "C = [4.5, 0.2, 9.2, 3.4, 2.7, 6.5] # Case with Decimals\n",
    "D = [2, 5, 3, 7, -4, -2, -8, 6] # Case with negatives and posiitves\n",
    "E = [2, 5, 1, 3, 19, 10, 8, 4, 9, 40, 7] # Random Case with duplicate values\n",
    "assert bucket_sort(A, 3) == sorted(A)\n",
    "assert bucket_sort(B, 3) == sorted(B)\n",
    "assert bucket_sort(C, 3) == sorted(C)\n",
    "assert bucket_sort(D, 3) == sorted(D)\n",
    "assert bucket_sort(E, 3) == sorted(E)"
   ]
  },
  {
   "cell_type": "markdown",
   "metadata": {
    "deletable": false,
    "editable": false,
    "run_control": {
     "frozen": true
    }
   },
   "source": [
    "**c.** The algorithm becomes unnecessarily complicated when it tries to sort a really short piece of the original array (e.g., bucketing a 10-element array into 333 buckets). To work around this, implement the following: if the input sublist length is below a certain threshold, `threshold`, sort it by bubble sort instead of continuing to bucket-sort recursively. Leave the threshold as an arbitrary positional argument for now. Provide at least three test cases to demonstrate that your implementation is correct."
   ]
  },
  {
   "cell_type": "code",
   "execution_count": 16,
   "metadata": {},
   "outputs": [],
   "source": [
    "import math \n",
    "\n",
    "def bucket_sort_threshold(lst, threshold, k=5, holding_list=None):\n",
    "    \"\"\"Implements recursive BucketSort\n",
    "\n",
    "    Parameters\n",
    "    ----------\n",
    "    lst : Python list or numpy array\n",
    "    k : int (default=5)\n",
    "        number of buckets to used in sorting\n",
    "    holding_list : array (default=None)\n",
    "        holds the final list in sequence\n",
    "    Returns\n",
    "    -------\n",
    "    array: a sorted Python list or numpy array\n",
    "    \"\"\"    \n",
    "    #Initializing a lsit to hold final sorted list.\n",
    "    if holding_list == None:\n",
    "        holding_list = []\n",
    "    \n",
    "    #Calculating the numerics needed for bucket assignment.\n",
    "    mn = min(lst)\n",
    "    mx = max(lst)\n",
    "    sz = math.ceil ((mx-mn)/k)\n",
    "    buckets = []\n",
    "    \n",
    "    #creating buckets to hold numbers\n",
    "    for i in range(k):\n",
    "        buckets.append([])\n",
    "        \n",
    "    #distribuute elements in k buckets\n",
    "    for i in range(len(lst)):\n",
    "        \n",
    "        b = get_bucket_num(lst[i],mn,mx,sz,k)\n",
    "        buckets[b].append(lst[i])\n",
    "        \n",
    "    #sorting elements individually\n",
    "    for i in buckets:\n",
    "        \n",
    "        #if bucket length is greater than or equal to threshold we call bucket sort\n",
    "        if len(i) >= threshold:\n",
    "            bucket_sort_threshold(i,threshold,k,hoding_list)\n",
    "            \n",
    "        #if bucket length is less than threshold but more than 1, we call bubble sort\n",
    "        elif len(i) < threshold and len(i)>1:\n",
    "            holding_list.extend(bubble_sort(i))\n",
    "            \n",
    "        #if bucket length is equal to one we can just append it to our final lsit\n",
    "        elif len(i) == 1:\n",
    "            holding_list.append(*i)\n",
    "            \n",
    "        #Else the bucket must be empty so pass\n",
    "        else:\n",
    "            pass\n",
    "\n",
    "    return holding_list\n",
    "    raise NotImplementedError()\n",
    "\n",
    "def get_bucket_num(a,mn,mx,sz,k):\n",
    "    \"\"\"Calculates which bucket a given element should be sorted to.\n",
    "    \n",
    "    Parameters\n",
    "    ----------\n",
    "    a: an element of the list (usually a number)\n",
    "    mn: float\n",
    "        smallest element value\n",
    "    mx: float\n",
    "        largest element value\n",
    "    sz: int\n",
    "        bucket size\n",
    "    k: int\n",
    "        number of buckets\n",
    "    \n",
    "    Returns\n",
    "    -------\n",
    "    int: the correct bucket number for element a\n",
    "    \n",
    "    \"\"\"\n",
    "    if a == mx:\n",
    "        j = k\n",
    "    elif a == mn:\n",
    "        j = 1\n",
    "    else:\n",
    "        j = 1\n",
    "        while a >= (mn+(sz*j)):\n",
    "            j += 1\n",
    "    #Index is counted an extra time so we decrement j\n",
    "    return j - 1\n",
    "    raise NotImplementedError()\n",
    "    \n",
    "def bubble_sort(A):\n",
    "    \"\"\"\n",
    "    This function will sort the array using bubble sort method.\n",
    "    Parameters\n",
    "    ----------\n",
    "    A : list\n",
    "        A list we want to sort\n",
    "    Returns\n",
    "    -------\n",
    "    sorted list\n",
    "    \"\"\"\n",
    "    #the first argument in range is inclusive while the second one is exclusive\n",
    "    for i in range(0, len(A) - 1):\n",
    "        for j in range(len(A) - 1, i, -1):\n",
    "            \n",
    "            if A[j] < A[j-1]:\n",
    "                A[j-1], A[j] = A[j], A[j-1] #swap method used\n",
    "    return A\n",
    "    raise NotImplementedError()\n",
    "input_array = [8, 5, 4, 6, 7, 2, 9, 1, 3]\n",
    "assert bucket_sort(input_array, 3) == sorted(input_array)"
   ]
  },
  {
   "cell_type": "code",
   "execution_count": 17,
   "metadata": {},
   "outputs": [],
   "source": [
    "input_array = [8, 5, 4, 6, 7, 2, 9, 1, 3]\n",
    "assert bucket_sort(input_array, 3) == sorted(input_array)\n",
    "# Test Cases\n",
    "A = [1, 2, 3, 4, 5, 6, 7, 8, 9] # Best Case\n",
    "B = [9, 8, 7, 6, 5, 4, 3, 2, 1] # Worst Case\n",
    "C = [4.5, 0.2, 9.2, 3.4, 2.7, 6.5] # Case with Decimals\n",
    "D = [2, 5, 3, 7, -4, -2, -8, 6] # Case with negatives and posiitves\n",
    "E = [2, 5, 1, 3, 19, 10, 8, 4, 9, 40, 7] # Random Case\n",
    "assert bucket_sort(A, 3) == sorted(A)\n",
    "assert bucket_sort(B, 3) == sorted(B)\n",
    "assert bucket_sort(C, 3) == sorted(C)\n",
    "assert bucket_sort(D, 3) == sorted(D)\n",
    "assert bucket_sort(E, 3) == sorted(E)"
   ]
  },
  {
   "cell_type": "markdown",
   "metadata": {},
   "source": [
    "**d.** Based on theoretical and experimental arguments, justify what might be the optimal threshold for switching to bubble sort. Hint: start by thinking through the experiments you should run to address this question. Does the input nature and size matter? Explain your answer in as much detail as possible. "
   ]
  },
  {
   "cell_type": "code",
   "execution_count": 18,
   "metadata": {},
   "outputs": [
    {
     "data": {
      "image/png": "[encoded data removed]",
      "text/plain": [
       "<Figure size 432x288 with 1 Axes>"
      ]
     },
     "metadata": {
      "needs_background": "light"
     },
     "output_type": "display_data"
    },
    {
     "data": {
      "image/png": "[encoded data removed]",
      "text/plain": [
       "<Figure size 432x288 with 1 Axes>"
      ]
     },
     "metadata": {
      "needs_background": "light"
     },
     "output_type": "display_data"
    }
   ],
   "source": [
    "import matplotlib.pyplot as plt\n",
    "import time \n",
    "\n",
    "#Initializing lists.\n",
    "input_size = []\n",
    "\n",
    "bucket_time_y = []\n",
    "bubble_time_y = []\n",
    "bucket_threshold_time_y = []\n",
    "\n",
    "\n",
    "trials = 1000\n",
    "factor = 100\n",
    "threshold = 0\n",
    "\n",
    "#Loop to create inputs of varying size.\n",
    "for k in range(1,factor,10):\n",
    "    time_taken_bucket = 0\n",
    "    time_taken_bubble = 0\n",
    "    time_taken_bucket_threshold = 0\n",
    "\n",
    "    list_k = [i for i in range(0, k)]\n",
    "    input_size.append(len(list_k))\n",
    "    \n",
    "    for i in range(trials):\n",
    "        \n",
    "        #Setting number of buckets\n",
    "        buckets = 5\n",
    "        \n",
    "        #Finding time taken for bucket sort per trial.\n",
    "        start_bucket = time.time()\n",
    "        bucket_sort(list_k, buckets)\n",
    "        end_bucket = time.time()\n",
    "        time_taken_bucket += end_bucket - start_bucket\n",
    "        \n",
    "        #Finding time taken for bubble sort per trial.\n",
    "        start_bubble = time.time()\n",
    "        bubble_sort(list_k)\n",
    "        end_bubble = time.time()\n",
    "        time_taken_bubble += end_bubble - start_bubble\n",
    "        \n",
    "        #Finding time taken for bucket sort with threshold per trial.\n",
    "        start_bucket_threshold = time.time()\n",
    "        bucket_sort_threshold(list_k, 57, buckets)\n",
    "        end_bucket_threshold = time.time()\n",
    "        time_taken_bucket_threshold += end_bucket_threshold - start_bucket_threshold\n",
    "        \n",
    "\n",
    "    #Taking an average of the values for y data points and then appending to the y lists. \n",
    "    bucket_time_y.append(time_taken_bucket/trials)\n",
    "    bubble_time_y.append(time_taken_bubble/trials)\n",
    "    bucket_threshold_time_y.append(time_taken_bucket_threshold/trials)\n",
    "\n",
    "\n",
    "#Graph for Bubble sort vs Bucket Sort\n",
    "plt.plot(input_size, bucket_time_y, label = \"Bucket Sort\")\n",
    "plt.plot(input_size, bubble_time_y, label = \"Bubble Sort\")\n",
    "plt.axvline(57, label = \"Optimal Threshold\", linestyle = '--', color = 'red')\n",
    "plt.xlabel('Input size')\n",
    "plt.ylabel('Average Time taken/seconds')\n",
    "plt.title('Bucket Sort vs Bubble Sort')\n",
    "plt.legend()\n",
    "plt.show()\n",
    "\n",
    "#Graph for Bucket sort with threshold vs Bucket sort without threshold\n",
    "plt.plot(input_size, bucket_time_y, label = \"Bucket Sort\")\n",
    "plt.plot(input_size, bucket_threshold_time_y, label = \"Bucket Sort with Threshold\")\n",
    "plt.xlabel('Input size')\n",
    "plt.ylabel('Average Time taken/seconds')\n",
    "plt.title('Comapring Bucket Sort Runtime with and without Threshold')\n",
    "plt.legend()\n",
    "plt.show()"
   ]
  },
  {
   "cell_type": "markdown",
   "metadata": {},
   "source": [
    "Asymptotically bucket sort will always perform better than bubble sort however due to the implementation of the code and the platform that it is running in, the constant coefficient with bucket sort would be much higher. This would lead to an initial better performance through bubble sort up till a threshold around which the times for solving arrays of those sizes would be the same for both algorithms. After this point, it would be better to implement bucket sort and thus set this as the threshold. Furthermore, for the bucket sort in each recursive call, we see a division into k buckets and for any n sized lists, this division can happen log<sub>k</sub>(n) number of times. Furthermore, across each level in the division, comparisons happen across all the elements once which leads into the final nlog<sub>k</sub>(n) time complexity. While bubble sort's time complexity of O(n<sup>2</sup>) is mainly based on the two for loops in it. So we can say that our complexity above the threshold will be O(nlog<sub>k</sub>(n)) while when the input size is lower than threshold it will be O(n<sup>2</sup>).\n",
    "\n",
    "We can also see this emperically through the graph above. We can see that bubble sort increases quadratically while bucket sort increases at a lower rate. There is a certain point on the graph where these two lines will intersect, and this will be idenified as the optimal threshold, marked with a red line. This line approximatelues in between 55 and 60. After this line the efficiency of bubble sort decreases relatively quickly as comapred to bucket sort.\n",
    "\n",
    "In the second graph we can see that after we implemented the threshold bucket sort was able to perform better than when we only call it recursively."
   ]
  },
  {
   "cell_type": "markdown",
   "metadata": {
    "deletable": false,
    "editable": false,
    "run_control": {
     "frozen": true
    }
   },
   "source": [
    "# Reflection on the feedback from LOs from class\n",
    "\n",
    "Include below the most critical feedback you have received from your PCW workbook or in-class polls. Explain, about 50 words, how you used that feedback to improve your LO applications in this assignment (please include a word count). Be as specific as possible. "
   ]
  },
  {
   "cell_type": "markdown",
   "metadata": {},
   "source": [
    "I got a two on LO #ComputationalCritique. In the poll response, I failed to dive deeper into the idea of why a particular algorithm was better than another. However, in this assignment, I think I overcame this. I first provided individual theoretical analysis for the efficiency of binary search algorithms and ternary search algorithms. Then I provided experimental evidence through graphs in order to back up this argument. Finally, I compared the efficiency of both these searching algorithms and showed both theoretically and experimentally why the binary search was the better algorithm.\n",
    "\n",
    "Word Count: 70 words"
   ]
  },
  {
   "cell_type": "markdown",
   "metadata": {
    "deletable": false,
    "editable": false,
    "run_control": {
     "frozen": true
    }
   },
   "source": [
    "# HCs application\n",
    "\n",
    "Identify three HCs that you have utilized in this assignment and reflect on your application in at least 50 words each (please include a word count). "
   ]
  },
  {
   "cell_type": "markdown",
   "metadata": {},
   "source": [
    "<b>#breakitdown:</b>\n",
    "\n",
    "I effectively broke down the problems into subproblems and solved them individually bringing the final result together. This is mainly seen when we are plotting the graphs for the complexity of the two search algorithms. First I individually drew this graph then brought them together to make a comparison regarding which algorithm is better. I also applied this HC by breaking down the parts of codes into smaller pieces to see how every part worked and finally brought it all together to show the overall result.\n",
    "\n",
    "<b>#dataviz</b>\n",
    "\n",
    "I created multiple visualizations to represent the efficiency of the graph. The graphs showed the efficiency in terms of time and step size. I also provided good labels and titles to the graph to make it easy to understand. I also analyzed the graph and explained what the graph was telling us in terms of how efficient the algorithms are.\n",
    "\n",
    "<b>#algorithms</b>\n",
    "\n",
    "I was able to effectively explain how the algorithms for binary and ternary search worked in simple English. In order to expand on this explanation, I also provided a code for this algorithm which was well commented thus allowing the viewer to understand what is happening in the code.\n",
    "\n",
    "Word Count: 170 words"
   ]
  },
  {
   "cell_type": "markdown",
   "metadata": {
    "ExecuteTime": {
     "end_time": "2022-01-05T11:19:13.613614Z",
     "start_time": "2022-01-05T11:19:13.608646Z"
    },
    "deletable": false,
    "editable": false,
    "run_control": {
     "frozen": true
    }
   },
   "source": [
    "> Finally:\n",
    "> - Refer to the [CS110 course guide](https://drive.google.com/file/d/15qthc1zdBTcb7I0BhYjy0O0p186KwmG3/view?usp=sharing) on important notes about how to submit your assignment materials and the other sections that refer to the grading policy. Failure to include your Jupyter Notebook as part of your assignment resources will result in a 1️⃣ in #PythonProgramming.\n",
    "> - Before you turn this assignment in, make sure everything runs as expected and that there are no errors from running the code. Click on `Kernel` ➡️`Restart & Run All.`\n"
   ]
  },
  {
   "cell_type": "code",
   "execution_count": null,
   "metadata": {},
   "outputs": [],
   "source": []
  }
 ],
 "metadata": {
  "kernelspec": {
   "display_name": "Python 3",
   "language": "python",
   "name": "python3"
  },
  "language_info": {
   "codemirror_mode": {
    "name": "ipython",
    "version": 3
   },
   "file_extension": ".py",
   "mimetype": "text/x-python",
   "name": "python",
   "nbconvert_exporter": "python",
   "pygments_lexer": "ipython3",
   "version": "3.7.7"
  },
  "latex_envs": {
   "LaTeX_envs_menu_present": true,
   "autoclose": false,
   "autocomplete": true,
   "bibliofile": "biblio.bib",
   "cite_by": "apalike",
   "current_citInitial": 1,
   "eqLabelWithNumbers": true,
   "eqNumInitial": 1,
   "hotkeys": {
    "equation": "Ctrl-E",
    "itemize": "Ctrl-I"
   },
   "labels_anchors": false,
   "latex_user_defs": false,
   "report_style_numbering": false,
   "user_envs_cfg": false
  }
 },
 "nbformat": 4,
 "nbformat_minor": 5
}
